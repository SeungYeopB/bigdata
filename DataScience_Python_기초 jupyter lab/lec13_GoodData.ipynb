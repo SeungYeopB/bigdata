{
 "cells": [
  {
   "cell_type": "markdown",
   "metadata": {},
   "source": [
    "## 좋은 데이터의 기준\n",
    "\n",
    "\n",
    "#### 1. 완결성 - 필수 데이터는 모두 존재해야 한다\n",
    " * 완결성이 있는지 확인하는법 : 결측값이 있는지 확인한다  (결측값: 존재해야 하는데 존재하지 않는 값 NaN)\n",
    "\n",
    "#### 2. 유일성 - 동일한 데이터가 불필요하게 중복되어 있으면 안된다.\n",
    " * 제품정보 수정중 위의 정보만 수정된다면 잘못된 정보들이 데이터프레임에 남게된다. \n",
    " \n",
    "#### 3. 통일성 - 데이터가 동일한 형식을 저장되어 있어야 한다.\n",
    " * 한글, 영어 / 단위 / 쉼표 등. 같은 단위, 같은 자료형, 지정된 컬럼풀 내에서 데이터들이 존재해야 한다.\n",
    " \n",
    "#### 4. 정확성 - 데이터가 정확해야 한다.\n",
    " * 주로 데이터를 모으는 과정에서 발생한다. (시력을 재는데 한곳에서는 안경을 허용하고, 한곳에서는 맨눈으로만 쟀다면 정확성이 낮아진다.)\n",
    " * 사람의 실수로 잘못된 값이 들어갈때도 발생한다.\n",
    " * 이상점(outlier)을 확인하고 정확한 값인지 측정해볼 필요가 있다."
   ]
  }
 ],
 "metadata": {
  "kernelspec": {
   "display_name": "Python 3",
   "language": "python",
   "name": "python3"
  },
  "language_info": {
   "codemirror_mode": {
    "name": "ipython",
    "version": 3
   },
   "file_extension": ".py",
   "mimetype": "text/x-python",
   "name": "python",
   "nbconvert_exporter": "python",
   "pygments_lexer": "ipython3",
   "version": "3.6.8"
  }
 },
 "nbformat": 4,
 "nbformat_minor": 4
}
