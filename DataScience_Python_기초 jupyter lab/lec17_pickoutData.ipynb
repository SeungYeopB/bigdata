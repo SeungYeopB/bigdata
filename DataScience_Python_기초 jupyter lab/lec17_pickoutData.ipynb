{
 "cells": [
  {
   "cell_type": "markdown",
   "metadata": {},
   "source": [
    "---\n",
    "## BeautifulSoup\n",
    "```\n",
    "    파이썬에서 HTML 코드를 파싱하기 위해선 BeautifulSoup을 이용해야 한다\n",
    "    HTML 코드를 BeautifulSoup타입으로 바꿔 처리한다\n",
    "```"
   ]
  },
  {
   "cell_type": "code",
   "execution_count": 1,
   "metadata": {},
   "outputs": [],
   "source": [
    "html_code = \"\"\"<!DOCTYPE html>\n",
    "<html>\n",
    "<head>\n",
    "    <title>Sample Website</title>\n",
    "</head>\n",
    "<body>\n",
    "<h2>HTML 연습!</h2>\n",
    "\n",
    "<p>이것은 첫 번째 문단입니다.</p>\n",
    "<p>이것은 두 번째 문단입니다!</p>\n",
    "\n",
    "<ul>\n",
    "    <li>커피</li>\n",
    "    <li>녹차</li>\n",
    "    <li>우유</li>\n",
    "</ul>\n",
    "\n",
    "<img src='https://i.imgur.com/bY0l0PC.jpg' alt=\"coffee\"/>\n",
    "<img src='https://i.imgur.com/fvJLWdV.jpg' alt=\"green-tea\"/>\n",
    "<img src='https://i.imgur.com/rNOIbNt.jpg' alt=\"milk\"/>\n",
    "\n",
    "</body>\n",
    "</html>\"\"\""
   ]
  },
  {
   "cell_type": "code",
   "execution_count": 3,
   "metadata": {},
   "outputs": [
    {
     "name": "stdout",
     "output_type": "stream",
     "text": [
      "Collecting beautifulsoup4\n",
      "  Downloading beautifulsoup4-4.8.2-py3-none-any.whl (106 kB)\n",
      "Collecting soupsieve>=1.2\n",
      "  Downloading soupsieve-2.0-py2.py3-none-any.whl (32 kB)\n",
      "Installing collected packages: soupsieve, beautifulsoup4\n",
      "Successfully installed beautifulsoup4-4.8.2 soupsieve-2.0\n"
     ]
    }
   ],
   "source": [
    "!pip install beautifulsoup4\n",
    "from bs4 import BeautifulSoup"
   ]
  },
  {
   "cell_type": "code",
   "execution_count": 5,
   "metadata": {},
   "outputs": [
    {
     "data": {
      "text/plain": [
       "bs4.BeautifulSoup"
      ]
     },
     "execution_count": 5,
     "metadata": {},
     "output_type": "execute_result"
    }
   ],
   "source": [
    "#  BeautifulSoup 타입으로 변환\n",
    "soup = BeautifulSoup(html_code, 'html.parser') # html을 파싱한다는 의미로 html.parser같이 보내주기\n",
    "\n",
    "# type 확인\n",
    "type(soup)"
   ]
  },
  {
   "cell_type": "markdown",
   "metadata": {},
   "source": [
    "#### BeautifulSoup타입에는 .select() 메소드를 사용할 수 있다.\n",
    "#### 괄호안에 CSS선택자를 넣고 특정 HTML 태그만 선택할 수 있다."
   ]
  },
  {
   "cell_type": "code",
   "execution_count": 16,
   "metadata": {},
   "outputs": [
    {
     "name": "stdout",
     "output_type": "stream",
     "text": [
      "[<li>커피</li>, <li>녹차</li>, <li>우유</li>]\n",
      "<li>커피</li>\n",
      "<class 'bs4.element.Tag'>\n",
      "우유\n",
      "['커피', '녹차', '우유']\n"
     ]
    }
   ],
   "source": [
    "# 모든 <li> 태그 선택하기\n",
    "li_tags = soup.select('li')\n",
    "\n",
    "print(li_tags)\n",
    "# 리스트로 변환되어 하나하나 요소에 접근할 수 있다.\n",
    "print(li_tags[0])\n",
    "\n",
    "# 타입을 확인해보면 element.Tag로 확인된다.\n",
    "print(type(li_tags[0]))\n",
    "\n",
    "# element.Tag의 기능 중 하나는 텍스트 추출이다. 뒤에 .text라고 붙혀주면, 텍스트만 꺼내 확인할 수 있다.\n",
    "print(li_tags[2].text)\n",
    "\n",
    "# 모두 뽑아내려면 반복문을 사용한다.\n",
    "beverage_names=[]\n",
    "\n",
    "for li in li_tags:\n",
    "    beverage_names.append(li.text)\n",
    "    \n",
    "print(beverage_names)"
   ]
  },
  {
   "cell_type": "markdown",
   "metadata": {},
   "source": [
    "---\n",
    "#### BeautifulSoup태그에 .text를 붙여 텍스트를 추출하는 것처럼 태그의 속성값을 추출할 수 있다.\n",
    "#### img 태그의 src 속성에는 일반적으로 이미지 주소가 저장되어 있다. 이를 추출해보자."
   ]
  },
  {
   "cell_type": "code",
   "execution_count": 17,
   "metadata": {},
   "outputs": [
    {
     "data": {
      "text/plain": [
       "[<img alt=\"coffee\" src=\"https://i.imgur.com/bY0l0PC.jpg\"/>,\n",
       " <img alt=\"green-tea\" src=\"https://i.imgur.com/fvJLWdV.jpg\"/>,\n",
       " <img alt=\"milk\" src=\"https://i.imgur.com/rNOIbNt.jpg\"/>]"
      ]
     },
     "execution_count": 17,
     "metadata": {},
     "output_type": "execute_result"
    }
   ],
   "source": [
    "img_tags = soup.select('img')\n",
    "img_tags"
   ]
  },
  {
   "cell_type": "code",
   "execution_count": 20,
   "metadata": {},
   "outputs": [
    {
     "name": "stdout",
     "output_type": "stream",
     "text": [
      "<img alt=\"coffee\" src=\"https://i.imgur.com/bY0l0PC.jpg\"/>\n",
      "https://i.imgur.com/bY0l0PC.jpg\n",
      "['https://i.imgur.com/bY0l0PC.jpg', 'https://i.imgur.com/fvJLWdV.jpg', 'https://i.imgur.com/rNOIbNt.jpg']\n"
     ]
    }
   ],
   "source": [
    "# 이미지 역시 배열로 받아온다. 이를 항목 하나하나에 접근할 수 있다.\n",
    "print(img_tags[0])\n",
    "\n",
    "# 여기서 src속성에 접근하려면 ['src']를 붙혀준다\n",
    "print(img_tags[0]['src'])\n",
    "\n",
    "# 위와 마찬가지로 for문으로 뽑아낼 수 있다.\n",
    "src_list = []\n",
    "\n",
    "for src in img_tags:\n",
    "    src_list.append(src['src'])\n",
    "\n",
    "print(src_list)"
   ]
  },
  {
   "cell_type": "markdown",
   "metadata": {},
   "source": [
    "---\n",
    "### 파싱 실습\n",
    "* 음악사이트의 인기 아티스트를 추출해보기"
   ]
  },
  {
   "cell_type": "code",
   "execution_count": 24,
   "metadata": {},
   "outputs": [],
   "source": [
    "# 1. HTML 코드 받아오기\n",
    "import requests\n",
    "\n",
    "# HTML 코드 받아오기\n",
    "response = requests.get(\"https://workey.codeit.kr/music/index\")\n",
    "\n",
    "print(response.text) # html 을 보려면 .text 사용"
   ]
  },
  {
   "cell_type": "code",
   "execution_count": 35,
   "metadata": {},
   "outputs": [],
   "source": [
    "# 2. BeautifulSoup타입으로 교체\n",
    "from bs4 import BeautifulSoup\n",
    "soup = BeautifulSoup(response.text, 'html.parser')\n",
    "\n",
    "# print(soup)"
   ]
  },
  {
   "cell_type": "code",
   "execution_count": 36,
   "metadata": {},
   "outputs": [
    {
     "data": {
      "text/plain": [
       "['1 아이유 (IU)',\n",
       " '2 방탄소년단',\n",
       " '3 Red Velvet (레드벨벳)',\n",
       " '4 IKON',\n",
       " '5 멜로망스',\n",
       " '6 다비치',\n",
       " '7 윤딴딴',\n",
       " '8 수지 (SUZY)',\n",
       " '9 김동률',\n",
       " '10 폴킴']"
      ]
     },
     "execution_count": 36,
     "metadata": {},
     "output_type": "execute_result"
    }
   ],
   "source": [
    "# 인기아티스트를 찾아보니 h3 태그에 클래스 명은 'popular_title' 이다.\n",
    "# 그 내부에 있는 ul 태그의 선택자를 통해 파싱해본다.\n",
    "popular_singers_html = soup.select('.popular__order li')\n",
    "# 변수에 인기 아티스트 10명과 html문법들을 리스트로 잘 저장되어있다.\n",
    "# 가수 텍스트만 추출해낸다.\n",
    "popular_singers = []\n",
    "for singer in popular_singers_html:\n",
    "    popular_singers.append(singer.text.strip()) # strip을 사용하여 공백과 개행 문자까지 지울 수 있다.\n",
    "popular_singers"
   ]
  },
  {
   "cell_type": "markdown",
   "metadata": {},
   "source": [
    "---\n",
    "### 필요한 페이지 만큼만 가져오기\n",
    "* 이케아 desk 검색해보기  \n",
    "\n",
    "```\n",
    "필요한 만큼만 가져오는 방법\n",
    "1. 파싱으로 페이지 개수 확인하기 (사이트에 나와있는경우)\n",
    "2. 일단 가져오고 확인해보기\n",
    "```"
   ]
  },
  {
   "cell_type": "code",
   "execution_count": 67,
   "metadata": {},
   "outputs": [
    {
     "name": "stdout",
     "output_type": "stream",
     "text": [
      "13\n"
     ]
    }
   ],
   "source": [
    "# 1. 파싱으로 페이지 개수 확인하기\n",
    "import requests\n",
    "from bs4 import BeautifulSoup\n",
    "\n",
    "# HTML 코드 받아오기\n",
    "response = requests.get(\"https://www.ikea.com/kr/ko/search/?query=desk\")\n",
    "\n",
    "# BeautifulSoup 타입으로 변환\n",
    "soup = BeautifulSoup(response.text, 'html.parser')\n",
    "\n",
    "# 마지막 <a> 태그의 텍스트 추출하기 (인덱스의 -1 은 마지막 항목을 가르킨다.) \n",
    "page_length = soup.select('.pagination a')[-1].text\n",
    "\n",
    "desk_page_htmls = []\n",
    "# page_length = 13\n",
    "for num in range(1, int(page_length)+1):\n",
    "    desk_page_htmls.append(requests.get(\"https://www.ikea.com/kr/ko/search/?query=desk&pageNumber=\"+str(num)).text)\n",
    "\n",
    "print(len(desk_page_htmls))\n",
    "# print(desk_page_htmls[0])"
   ]
  },
  {
   "cell_type": "markdown",
   "metadata": {},
   "source": [
    "https://www.ikea.com/kr/ko/search/?query=desk&pageNumber=1   \n",
    "https://www.ikea.com/kr/ko/search/?query=desk&pageNumber=833\n",
    "\n",
    "```\n",
    "제품이 존재하는 페이지와 존재하지 않는 페이지를 비교하는방법이다.\n",
    "문제에서는 prodName이라는 클래스의 존재 유무로 검사를 해보았다.\n",
    "```"
   ]
  },
  {
   "cell_type": "code",
   "execution_count": 71,
   "metadata": {},
   "outputs": [
    {
     "name": "stdout",
     "output_type": "stream",
     "text": [
      "13\n"
     ]
    }
   ],
   "source": [
    "# 2. 일단 가져오고 확인해보기.\n",
    "import requests\n",
    "from bs4 import BeautifulSoup\n",
    "\n",
    "page_num = 1\n",
    "pages = []\n",
    "while True:\n",
    "    # HTML 코드 받아오기\n",
    "    response = requests.get(\"https://www.ikea.com/kr/ko/search/?query=desk&pageNumber=\"+str(page_num))\n",
    "\n",
    "    # BeautifulSoup 타입으로 변환하기\n",
    "    soup = BeautifulSoup(response.text, 'html.parser')\n",
    "    \n",
    "    # .prodName클래스의 유무 확인\n",
    "    if(len(soup.select('.prodName')) > 0):\n",
    "        pages.append(soup.text)\n",
    "        page_num+=1\n",
    "    else:\n",
    "        break;\n",
    "print(len(pages))\n",
    "# print(pages[0])"
   ]
  },
  {
   "cell_type": "markdown",
   "metadata": {},
   "source": [
    "---\n",
    "## 웹 크롤링 후 DataFrame 으로 정형하기"
   ]
  },
  {
   "cell_type": "code",
   "execution_count": 97,
   "metadata": {},
   "outputs": [
    {
     "name": "stdout",
     "output_type": "stream",
     "text": [
      "305\n"
     ]
    },
    {
     "data": {
      "text/html": [
       "<div>\n",
       "<style scoped>\n",
       "    .dataframe tbody tr th:only-of-type {\n",
       "        vertical-align: middle;\n",
       "    }\n",
       "\n",
       "    .dataframe tbody tr th {\n",
       "        vertical-align: top;\n",
       "    }\n",
       "\n",
       "    .dataframe thead th {\n",
       "        text-align: right;\n",
       "    }\n",
       "</style>\n",
       "<table border=\"1\" class=\"dataframe\">\n",
       "  <thead>\n",
       "    <tr style=\"text-align: right;\">\n",
       "      <th></th>\n",
       "      <th>제품명</th>\n",
       "      <th>가격</th>\n",
       "      <th>제품 이미지 주소</th>\n",
       "    </tr>\n",
       "  </thead>\n",
       "  <tbody>\n",
       "    <tr>\n",
       "      <th>0</th>\n",
       "      <td>BRÄDA 브레다</td>\n",
       "      <td>₩ 4,900 /개</td>\n",
       "      <td>https://www.ikea.com/kr/ko/images/products/bra...</td>\n",
       "    </tr>\n",
       "    <tr>\n",
       "      <th>1</th>\n",
       "      <td>ISBERGET 이스베리에트</td>\n",
       "      <td>₩ 2,500 /개</td>\n",
       "      <td>https://www.ikea.com/kr/ko/images/products/isb...</td>\n",
       "    </tr>\n",
       "    <tr>\n",
       "      <th>2</th>\n",
       "      <td>FREDDE 프레데</td>\n",
       "      <td>₩ 279,000 /개</td>\n",
       "      <td>https://www.ikea.com/kr/ko/images/products/fre...</td>\n",
       "    </tr>\n",
       "    <tr>\n",
       "      <th>3</th>\n",
       "      <td>BERGENES 베리에네스</td>\n",
       "      <td>₩ 2,900 /개</td>\n",
       "      <td>https://www.ikea.com/kr/ko/images/products/ber...</td>\n",
       "    </tr>\n",
       "    <tr>\n",
       "      <th>4</th>\n",
       "      <td>BEKANT 베칸트</td>\n",
       "      <td>₩ 189,000 /개</td>\n",
       "      <td>https://www.ikea.com/kr/ko/images/products/bek...</td>\n",
       "    </tr>\n",
       "  </tbody>\n",
       "</table>\n",
       "</div>"
      ],
      "text/plain": [
       "               제품명            가격  \\\n",
       "0        BRÄDA 브레다    ₩ 4,900 /개   \n",
       "1  ISBERGET 이스베리에트    ₩ 2,500 /개   \n",
       "2       FREDDE 프레데  ₩ 279,000 /개   \n",
       "3   BERGENES 베리에네스    ₩ 2,900 /개   \n",
       "4       BEKANT 베칸트  ₩ 189,000 /개   \n",
       "\n",
       "                                           제품 이미지 주소  \n",
       "0  https://www.ikea.com/kr/ko/images/products/bra...  \n",
       "1  https://www.ikea.com/kr/ko/images/products/isb...  \n",
       "2  https://www.ikea.com/kr/ko/images/products/fre...  \n",
       "3  https://www.ikea.com/kr/ko/images/products/ber...  \n",
       "4  https://www.ikea.com/kr/ko/images/products/bek...  "
      ]
     },
     "execution_count": 97,
     "metadata": {},
     "output_type": "execute_result"
    }
   ],
   "source": [
    "import requests\n",
    "from bs4 import BeautifulSoup\n",
    "\n",
    "page_num = 1\n",
    "records = []\n",
    "\n",
    "while True:\n",
    "    # HTML 코드 받아오기\n",
    "    response = requests.get(\"https://www.ikea.com/kr/ko/search/?query=desk&pageNumber=\"+str(page_num))\n",
    "\n",
    "    # BeautifulSoup 타입으로 변환하기\n",
    "    soup = BeautifulSoup(response.text, 'html.parser')\n",
    "    \n",
    "    # .prodName클래스의 유무 확인\n",
    "    if(len(soup.select('.prodName')) > 0):\n",
    "        product_names = soup.select('.prodName')\n",
    "        product_prices = soup.select('.prodPrice')\n",
    "        product_imgs = soup.select('.prodImg')\n",
    "        page_num+=1\n",
    "        for i in range(0, len(soup.select('.prodName'))):\n",
    "            record = []\n",
    "            record.append(product_names[i].text)\n",
    "            record.append(product_prices[i].text.strip())\n",
    "            record.append(\"https://www.ikea.com\" + product_imgs[i].get('src'))\n",
    "            records.append(record)        \n",
    "    else:\n",
    "        break;\n",
    "print(len(records))\n",
    "#print(records)\n",
    "\n",
    "# DataFrame 만들기\n",
    "import pandas as pd\n",
    "\n",
    "df = pd.DataFrame(data=records, columns=['제품명', '가격', '제품 이미지 주소'])\n",
    "df.head()"
   ]
  }
 ],
 "metadata": {
  "kernelspec": {
   "display_name": "Python 3",
   "language": "python",
   "name": "python3"
  },
  "language_info": {
   "codemirror_mode": {
    "name": "ipython",
    "version": 3
   },
   "file_extension": ".py",
   "mimetype": "text/x-python",
   "name": "python",
   "nbconvert_exporter": "python",
   "pygments_lexer": "ipython3",
   "version": "3.6.8"
  }
 },
 "nbformat": 4,
 "nbformat_minor": 4
}
